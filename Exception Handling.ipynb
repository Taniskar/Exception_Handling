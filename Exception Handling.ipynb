{
 "cells": [
  {
   "cell_type": "markdown",
   "id": "2f1dfb09",
   "metadata": {},
   "source": [
    "# Exception Handling in Python\n",
    "\n",
    "Exception handling is a critical aspect of writing robust and reliable Python programs. It allows you to manage and respond to runtime errors gracefully, ensuring your program can continue running or terminate gracefully when an unexpected error occurs.\n",
    "\n",
    "## Theory of Exception Handling\n",
    "\n",
    "In Python, exceptions are managed using the `try`, `except`, `else`, and `finally` blocks. Each of these blocks serves a specific purpose in handling errors:\n",
    "\n",
    "- **`try` block**: Contains the code that might raise an exception.\n",
    "- **`except` block**: Contains the code that executes if an exception occurs.\n",
    "- **`else` block**: Contains the code that executes if no exceptions are raised.\n",
    "- **`finally` block**: Contains the code that executes no matter what, whether an exception occurred or not.\n",
    "\n",
    "### Basic Syntax\n",
    "\n",
    "```python\n",
    "try:\n",
    "    # Code that might raise an exception\n",
    "    pass\n",
    "except SomeException as e:\n",
    "    # Code that runs if the exception occurs\n",
    "    pass\n",
    "else:\n",
    "    # Code that runs if no exception occurs\n",
    "    pass\n",
    "finally:\n",
    "    # Code that runs no matter what\n",
    "    pass\n"
   ]
  },
  {
   "cell_type": "code",
   "execution_count": 2,
   "id": "b5a8996b",
   "metadata": {},
   "outputs": [],
   "source": [
    "import logging"
   ]
  },
  {
   "cell_type": "code",
   "execution_count": 3,
   "id": "0db05dd3",
   "metadata": {},
   "outputs": [],
   "source": [
    "format=\"%(asctime)s %(levelname)s %(message)s\""
   ]
  },
  {
   "cell_type": "code",
   "execution_count": 6,
   "id": "f52b63b2",
   "metadata": {},
   "outputs": [
    {
     "name": "stdout",
     "output_type": "stream",
     "text": [
      "An error occurred during division.\n"
     ]
    }
   ],
   "source": [
    "# Configure logging to write to div.log with the specified format and level\n",
    "logging.basicConfig(filename=\"div.log\", level=logging.DEBUG, format=\"%(asctime)s %(levelname)s %(message)s\")\n",
    "\n",
    "def divide(a, b):\n",
    "    try:\n",
    "        result = a / b\n",
    "    except ZeroDivisionError:\n",
    "        logging.exception(\"Division by zero error\")  # Log exception with traceback\n",
    "        return None\n",
    "    else:\n",
    "        logging.debug(\"Division successful!\")\n",
    "        return result\n",
    "    finally:\n",
    "        logging.debug(\"Execution completed\")  # This will always run\n",
    "\n",
    "result = divide(10, 0)\n",
    "if result is not None:\n",
    "    print(\"Your answer is:\", result)\n",
    "else:\n",
    "    print(\"An error occurred during division.\")"
   ]
  },
  {
   "cell_type": "code",
   "execution_count": null,
   "id": "f878d733",
   "metadata": {},
   "outputs": [],
   "source": []
  }
 ],
 "metadata": {
  "kernelspec": {
   "display_name": "Python 3 (ipykernel)",
   "language": "python",
   "name": "python3"
  },
  "language_info": {
   "codemirror_mode": {
    "name": "ipython",
    "version": 3
   },
   "file_extension": ".py",
   "mimetype": "text/x-python",
   "name": "python",
   "nbconvert_exporter": "python",
   "pygments_lexer": "ipython3",
   "version": "3.11.5"
  }
 },
 "nbformat": 4,
 "nbformat_minor": 5
}
